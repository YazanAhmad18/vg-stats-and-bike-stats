{
 "cells": [
  {
   "cell_type": "code",
   "execution_count": 30,
   "source": [
    "import pandas as pd\n",
    "import numpy as np"
   ],
   "outputs": [],
   "metadata": {}
  },
  {
   "cell_type": "code",
   "execution_count": 31,
   "source": [
    "data_stations = pd.read_csv('./station.csv' )\n",
    "data_trip = pd.read_csv('./trip.csv',error_bad_lines=False )\n",
    "data_weather = pd.read_csv('./weather.csv')\n",
    "\n",
    "data_trip"
   ],
   "outputs": [
    {
     "output_type": "stream",
     "name": "stderr",
     "text": [
      "b'Skipping line 50794: expected 12 fields, saw 20\\n'\n"
     ]
    },
    {
     "output_type": "execute_result",
     "data": {
      "text/plain": [
       "        trip_id         starttime          stoptime    bikeid  tripduration  \\\n",
       "0           431  10/13/2014 10:31  10/13/2014 10:48  SEA00298       985.935   \n",
       "1           432  10/13/2014 10:32  10/13/2014 10:48  SEA00195       926.375   \n",
       "2           433  10/13/2014 10:33  10/13/2014 10:48  SEA00486       883.831   \n",
       "3           434  10/13/2014 10:34  10/13/2014 10:48  SEA00333       865.937   \n",
       "4           435  10/13/2014 10:34  10/13/2014 10:49  SEA00202       923.923   \n",
       "...         ...               ...               ...       ...           ...   \n",
       "286852   255241   8/31/2016 23:34   8/31/2016 23:45  SEA00201       679.532   \n",
       "286853   255242   8/31/2016 23:48     9/1/2016 0:20  SEA00247      1965.418   \n",
       "286854   255243   8/31/2016 23:47     9/1/2016 0:20  SEA00300      1951.173   \n",
       "286855   255244   8/31/2016 23:49     9/1/2016 0:20  SEA00047      1883.299   \n",
       "286856   255245   8/31/2016 23:49     9/1/2016 0:20  SEA00442      1896.031   \n",
       "\n",
       "                             from_station_name  \\\n",
       "0                          2nd Ave & Spring St   \n",
       "1                          2nd Ave & Spring St   \n",
       "2                          2nd Ave & Spring St   \n",
       "3                          2nd Ave & Spring St   \n",
       "4                          2nd Ave & Spring St   \n",
       "...                                        ...   \n",
       "286852                 Harvard Ave & E Pine St   \n",
       "286853  Cal Anderson Park / 11th Ave & Pine St   \n",
       "286854  Cal Anderson Park / 11th Ave & Pine St   \n",
       "286855  Cal Anderson Park / 11th Ave & Pine St   \n",
       "286856  Cal Anderson Park / 11th Ave & Pine St   \n",
       "\n",
       "                                          to_station_name from_station_id  \\\n",
       "0       Occidental Park / Occidental Ave S & S Washing...          CBD-06   \n",
       "1       Occidental Park / Occidental Ave S & S Washing...          CBD-06   \n",
       "2       Occidental Park / Occidental Ave S & S Washing...          CBD-06   \n",
       "3       Occidental Park / Occidental Ave S & S Washing...          CBD-06   \n",
       "4       Occidental Park / Occidental Ave S & S Washing...          CBD-06   \n",
       "...                                                   ...             ...   \n",
       "286852                                2nd Ave & Spring St           CH-09   \n",
       "286853                              6th Ave S & S King St           CH-08   \n",
       "286854                              6th Ave S & S King St           CH-08   \n",
       "286855                              6th Ave S & S King St           CH-08   \n",
       "286856                              6th Ave S & S King St           CH-08   \n",
       "\n",
       "       to_station_id                usertype  gender  birthyear  \n",
       "0              PS-04                  Member    Male     1960.0  \n",
       "1              PS-04                  Member    Male     1970.0  \n",
       "2              PS-04                  Member  Female     1988.0  \n",
       "3              PS-04                  Member  Female     1977.0  \n",
       "4              PS-04                  Member    Male     1971.0  \n",
       "...              ...                     ...     ...        ...  \n",
       "286852        CBD-06  Short-Term Pass Holder     NaN        NaN  \n",
       "286853         ID-04  Short-Term Pass Holder     NaN        NaN  \n",
       "286854         ID-04  Short-Term Pass Holder     NaN        NaN  \n",
       "286855         ID-04  Short-Term Pass Holder     NaN        NaN  \n",
       "286856         ID-04  Short-Term Pass Holder     NaN        NaN  \n",
       "\n",
       "[286857 rows x 12 columns]"
      ],
      "text/html": [
       "<div>\n",
       "<style scoped>\n",
       "    .dataframe tbody tr th:only-of-type {\n",
       "        vertical-align: middle;\n",
       "    }\n",
       "\n",
       "    .dataframe tbody tr th {\n",
       "        vertical-align: top;\n",
       "    }\n",
       "\n",
       "    .dataframe thead th {\n",
       "        text-align: right;\n",
       "    }\n",
       "</style>\n",
       "<table border=\"1\" class=\"dataframe\">\n",
       "  <thead>\n",
       "    <tr style=\"text-align: right;\">\n",
       "      <th></th>\n",
       "      <th>trip_id</th>\n",
       "      <th>starttime</th>\n",
       "      <th>stoptime</th>\n",
       "      <th>bikeid</th>\n",
       "      <th>tripduration</th>\n",
       "      <th>from_station_name</th>\n",
       "      <th>to_station_name</th>\n",
       "      <th>from_station_id</th>\n",
       "      <th>to_station_id</th>\n",
       "      <th>usertype</th>\n",
       "      <th>gender</th>\n",
       "      <th>birthyear</th>\n",
       "    </tr>\n",
       "  </thead>\n",
       "  <tbody>\n",
       "    <tr>\n",
       "      <th>0</th>\n",
       "      <td>431</td>\n",
       "      <td>10/13/2014 10:31</td>\n",
       "      <td>10/13/2014 10:48</td>\n",
       "      <td>SEA00298</td>\n",
       "      <td>985.935</td>\n",
       "      <td>2nd Ave &amp; Spring St</td>\n",
       "      <td>Occidental Park / Occidental Ave S &amp; S Washing...</td>\n",
       "      <td>CBD-06</td>\n",
       "      <td>PS-04</td>\n",
       "      <td>Member</td>\n",
       "      <td>Male</td>\n",
       "      <td>1960.0</td>\n",
       "    </tr>\n",
       "    <tr>\n",
       "      <th>1</th>\n",
       "      <td>432</td>\n",
       "      <td>10/13/2014 10:32</td>\n",
       "      <td>10/13/2014 10:48</td>\n",
       "      <td>SEA00195</td>\n",
       "      <td>926.375</td>\n",
       "      <td>2nd Ave &amp; Spring St</td>\n",
       "      <td>Occidental Park / Occidental Ave S &amp; S Washing...</td>\n",
       "      <td>CBD-06</td>\n",
       "      <td>PS-04</td>\n",
       "      <td>Member</td>\n",
       "      <td>Male</td>\n",
       "      <td>1970.0</td>\n",
       "    </tr>\n",
       "    <tr>\n",
       "      <th>2</th>\n",
       "      <td>433</td>\n",
       "      <td>10/13/2014 10:33</td>\n",
       "      <td>10/13/2014 10:48</td>\n",
       "      <td>SEA00486</td>\n",
       "      <td>883.831</td>\n",
       "      <td>2nd Ave &amp; Spring St</td>\n",
       "      <td>Occidental Park / Occidental Ave S &amp; S Washing...</td>\n",
       "      <td>CBD-06</td>\n",
       "      <td>PS-04</td>\n",
       "      <td>Member</td>\n",
       "      <td>Female</td>\n",
       "      <td>1988.0</td>\n",
       "    </tr>\n",
       "    <tr>\n",
       "      <th>3</th>\n",
       "      <td>434</td>\n",
       "      <td>10/13/2014 10:34</td>\n",
       "      <td>10/13/2014 10:48</td>\n",
       "      <td>SEA00333</td>\n",
       "      <td>865.937</td>\n",
       "      <td>2nd Ave &amp; Spring St</td>\n",
       "      <td>Occidental Park / Occidental Ave S &amp; S Washing...</td>\n",
       "      <td>CBD-06</td>\n",
       "      <td>PS-04</td>\n",
       "      <td>Member</td>\n",
       "      <td>Female</td>\n",
       "      <td>1977.0</td>\n",
       "    </tr>\n",
       "    <tr>\n",
       "      <th>4</th>\n",
       "      <td>435</td>\n",
       "      <td>10/13/2014 10:34</td>\n",
       "      <td>10/13/2014 10:49</td>\n",
       "      <td>SEA00202</td>\n",
       "      <td>923.923</td>\n",
       "      <td>2nd Ave &amp; Spring St</td>\n",
       "      <td>Occidental Park / Occidental Ave S &amp; S Washing...</td>\n",
       "      <td>CBD-06</td>\n",
       "      <td>PS-04</td>\n",
       "      <td>Member</td>\n",
       "      <td>Male</td>\n",
       "      <td>1971.0</td>\n",
       "    </tr>\n",
       "    <tr>\n",
       "      <th>...</th>\n",
       "      <td>...</td>\n",
       "      <td>...</td>\n",
       "      <td>...</td>\n",
       "      <td>...</td>\n",
       "      <td>...</td>\n",
       "      <td>...</td>\n",
       "      <td>...</td>\n",
       "      <td>...</td>\n",
       "      <td>...</td>\n",
       "      <td>...</td>\n",
       "      <td>...</td>\n",
       "      <td>...</td>\n",
       "    </tr>\n",
       "    <tr>\n",
       "      <th>286852</th>\n",
       "      <td>255241</td>\n",
       "      <td>8/31/2016 23:34</td>\n",
       "      <td>8/31/2016 23:45</td>\n",
       "      <td>SEA00201</td>\n",
       "      <td>679.532</td>\n",
       "      <td>Harvard Ave &amp; E Pine St</td>\n",
       "      <td>2nd Ave &amp; Spring St</td>\n",
       "      <td>CH-09</td>\n",
       "      <td>CBD-06</td>\n",
       "      <td>Short-Term Pass Holder</td>\n",
       "      <td>NaN</td>\n",
       "      <td>NaN</td>\n",
       "    </tr>\n",
       "    <tr>\n",
       "      <th>286853</th>\n",
       "      <td>255242</td>\n",
       "      <td>8/31/2016 23:48</td>\n",
       "      <td>9/1/2016 0:20</td>\n",
       "      <td>SEA00247</td>\n",
       "      <td>1965.418</td>\n",
       "      <td>Cal Anderson Park / 11th Ave &amp; Pine St</td>\n",
       "      <td>6th Ave S &amp; S King St</td>\n",
       "      <td>CH-08</td>\n",
       "      <td>ID-04</td>\n",
       "      <td>Short-Term Pass Holder</td>\n",
       "      <td>NaN</td>\n",
       "      <td>NaN</td>\n",
       "    </tr>\n",
       "    <tr>\n",
       "      <th>286854</th>\n",
       "      <td>255243</td>\n",
       "      <td>8/31/2016 23:47</td>\n",
       "      <td>9/1/2016 0:20</td>\n",
       "      <td>SEA00300</td>\n",
       "      <td>1951.173</td>\n",
       "      <td>Cal Anderson Park / 11th Ave &amp; Pine St</td>\n",
       "      <td>6th Ave S &amp; S King St</td>\n",
       "      <td>CH-08</td>\n",
       "      <td>ID-04</td>\n",
       "      <td>Short-Term Pass Holder</td>\n",
       "      <td>NaN</td>\n",
       "      <td>NaN</td>\n",
       "    </tr>\n",
       "    <tr>\n",
       "      <th>286855</th>\n",
       "      <td>255244</td>\n",
       "      <td>8/31/2016 23:49</td>\n",
       "      <td>9/1/2016 0:20</td>\n",
       "      <td>SEA00047</td>\n",
       "      <td>1883.299</td>\n",
       "      <td>Cal Anderson Park / 11th Ave &amp; Pine St</td>\n",
       "      <td>6th Ave S &amp; S King St</td>\n",
       "      <td>CH-08</td>\n",
       "      <td>ID-04</td>\n",
       "      <td>Short-Term Pass Holder</td>\n",
       "      <td>NaN</td>\n",
       "      <td>NaN</td>\n",
       "    </tr>\n",
       "    <tr>\n",
       "      <th>286856</th>\n",
       "      <td>255245</td>\n",
       "      <td>8/31/2016 23:49</td>\n",
       "      <td>9/1/2016 0:20</td>\n",
       "      <td>SEA00442</td>\n",
       "      <td>1896.031</td>\n",
       "      <td>Cal Anderson Park / 11th Ave &amp; Pine St</td>\n",
       "      <td>6th Ave S &amp; S King St</td>\n",
       "      <td>CH-08</td>\n",
       "      <td>ID-04</td>\n",
       "      <td>Short-Term Pass Holder</td>\n",
       "      <td>NaN</td>\n",
       "      <td>NaN</td>\n",
       "    </tr>\n",
       "  </tbody>\n",
       "</table>\n",
       "<p>286857 rows × 12 columns</p>\n",
       "</div>"
      ]
     },
     "metadata": {},
     "execution_count": 31
    }
   ],
   "metadata": {}
  },
  {
   "cell_type": "markdown",
   "source": [
    "## What is the average trip duration for a borrowed bicycle?"
   ],
   "metadata": {}
  },
  {
   "cell_type": "code",
   "execution_count": 32,
   "source": [
    "\n",
    "average_trip=data_trip['tripduration'].mean()\n",
    "average_trip"
   ],
   "outputs": [
    {
     "output_type": "execute_result",
     "data": {
      "text/plain": [
       "1178.2956753399776"
      ]
     },
     "metadata": {},
     "execution_count": 32
    }
   ],
   "metadata": {}
  },
  {
   "cell_type": "markdown",
   "source": [
    "## What’s the most common age of a bicycle-sharer?"
   ],
   "metadata": {}
  },
  {
   "cell_type": "code",
   "execution_count": 33,
   "source": [
    "most_common_age=data_trip['birthyear'].mode()[0]\n",
    "most_common_age = 2021-most_common_age \n",
    "most_common_age"
   ],
   "outputs": [
    {
     "output_type": "execute_result",
     "data": {
      "text/plain": [
       "34.0"
      ]
     },
     "metadata": {},
     "execution_count": 33
    }
   ],
   "metadata": {}
  },
  {
   "cell_type": "markdown",
   "source": [
    "## Given all the weather data here, find the average precipitation per month, and the median precipitation"
   ],
   "metadata": {}
  },
  {
   "cell_type": "code",
   "execution_count": 34,
   "source": [
    "\n",
    "avg_precipitation_day=data_weather['Precipitation_In'].mean()\n",
    "avg_precipitation_month=avg_precipitation_day*30\n",
    "avg_precipitation_month"
   ],
   "outputs": [
    {
     "output_type": "execute_result",
     "data": {
      "text/plain": [
       "3.1519593613933234"
      ]
     },
     "metadata": {},
     "execution_count": 34
    }
   ],
   "metadata": {}
  },
  {
   "cell_type": "code",
   "execution_count": 35,
   "source": [
    "median_precipitation=data_weather['Precipitation_In'].median()\n",
    "median_precipitation"
   ],
   "outputs": [
    {
     "output_type": "execute_result",
     "data": {
      "text/plain": [
       "0.0"
      ]
     },
     "metadata": {},
     "execution_count": 35
    }
   ],
   "metadata": {}
  },
  {
   "cell_type": "markdown",
   "source": [
    " ## What’s the average number of bikes at a given bike station?"
   ],
   "metadata": {}
  },
  {
   "cell_type": "code",
   "execution_count": 36,
   "source": [
    "avareg_bike =data_stations[\"install_dockcount\"].mean()\n",
    "avareg_bike"
   ],
   "outputs": [
    {
     "output_type": "execute_result",
     "data": {
      "text/plain": [
       "17.586206896551722"
      ]
     },
     "metadata": {},
     "execution_count": 36
    }
   ],
   "metadata": {}
  },
  {
   "cell_type": "markdown",
   "source": [
    "## When a bike station is modified, is it more likely that it’ll lose bikes or gain bikes? How do you know"
   ],
   "metadata": {}
  },
  {
   "cell_type": "code",
   "execution_count": 37,
   "source": [
    "avg_num_midified_bikes=data_stations['current_dockcount'].mean()\n",
    "avg_num_midified_bikes\n"
   ],
   "outputs": [
    {
     "output_type": "execute_result",
     "data": {
      "text/plain": [
       "16.517241379310345"
      ]
     },
     "metadata": {},
     "execution_count": 37
    }
   ],
   "metadata": {}
  },
  {
   "cell_type": "markdown",
   "source": [
    "\n",
    "## it is most likely to lose bikes, because the modified mean is less than the previous mean"
   ],
   "metadata": {}
  },
  {
   "cell_type": "markdown",
   "source": [
    "\n",
    "## Come up with 3 more questions that can be answered with this data set"
   ],
   "metadata": {}
  },
  {
   "cell_type": "markdown",
   "source": [
    "## what is the gender for trip_id=433 ?"
   ],
   "metadata": {}
  },
  {
   "cell_type": "code",
   "execution_count": 38,
   "source": [
    "gender = data_trip[data_trip[\"trip_id\"]==433][\"gender\"]\n",
    "gender"
   ],
   "outputs": [
    {
     "output_type": "execute_result",
     "data": {
      "text/plain": [
       "2        Female\n",
       "50794    Female\n",
       "Name: gender, dtype: object"
      ]
     },
     "metadata": {},
     "execution_count": 38
    }
   ],
   "metadata": {}
  },
  {
   "cell_type": "markdown",
   "source": [
    "## in when day recorded most temperature in it ?"
   ],
   "metadata": {}
  },
  {
   "cell_type": "code",
   "execution_count": 39,
   "source": [
    "max1=data_weather[\"Date\"].max()\n",
    "max1"
   ],
   "outputs": [
    {
     "output_type": "execute_result",
     "data": {
      "text/plain": [
       "'9/9/2015'"
      ]
     },
     "metadata": {},
     "execution_count": 39
    }
   ],
   "metadata": {}
  },
  {
   "cell_type": "markdown",
   "source": [
    "## what is the names of stations where current_dockcount =24 ?"
   ],
   "metadata": {}
  },
  {
   "cell_type": "code",
   "execution_count": 40,
   "source": [
    "name= data_stations[data_stations[\"current_dockcount\"]==24][\"name\"]\n",
    "name"
   ],
   "outputs": [
    {
     "output_type": "execute_result",
     "data": {
      "text/plain": [
       "22    Children's Hospital / Sandpoint Way NE & 40th ...\n",
       "52                      Pier 69 / Alaskan Way & Clay St\n",
       "Name: name, dtype: object"
      ]
     },
     "metadata": {},
     "execution_count": 40
    }
   ],
   "metadata": {}
  },
  {
   "cell_type": "markdown",
   "source": [
    "## User Acceptance Tests"
   ],
   "metadata": {}
  },
  {
   "cell_type": "code",
   "execution_count": 41,
   "source": [
    "def test ():\n",
    "    \n",
    "    def assert_equal(actual,expected):\n",
    "       \n",
    "        assert actual == expected, f\"Expected {expected} but got {actual}\"\n",
    "\n",
    "    assert_equal(average_trip, 1178.2956753399776)\n",
    "    assert_equal(most_common_age, 34.0)\n",
    "    assert_equal(avg_precipitation_month, 3.1519593613933234)\n",
    "    assert_equal(median_precipitation, 0.0)\n",
    "    assert_equal(avareg_bike, 17.586206896551722)\n",
    "    assert_equal(avg_num_midified_bikes, 16.517241379310345)\n",
    "\n",
    "    assert_equal(max1,'9/9/2015')\n",
    "    print(\"all test done\")\n",
    "        \n",
    "test()"
   ],
   "outputs": [
    {
     "output_type": "stream",
     "name": "stdout",
     "text": [
      "Success!!!\n"
     ]
    }
   ],
   "metadata": {}
  }
 ],
 "metadata": {
  "orig_nbformat": 4,
  "language_info": {
   "name": "python",
   "version": "3.9.6",
   "mimetype": "text/x-python",
   "codemirror_mode": {
    "name": "ipython",
    "version": 3
   },
   "pygments_lexer": "ipython3",
   "nbconvert_exporter": "python",
   "file_extension": ".py"
  },
  "kernelspec": {
   "name": "python3",
   "display_name": "Python 3.9.6 64-bit ('.venv': poetry)"
  },
  "interpreter": {
   "hash": "977d63f3154309b742b0d7a75d4356b56ef6bbe041fd8a797f069a054dc74ee0"
  }
 },
 "nbformat": 4,
 "nbformat_minor": 2
}